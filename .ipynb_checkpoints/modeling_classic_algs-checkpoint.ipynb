{
 "cells": [
  {
   "cell_type": "markdown",
   "metadata": {},
   "source": [
    "## Modeling\n",
    "\n",
    "**Explain your reasoning behind the Algorithm used**\n",
    "\n",
    "Energy consumption is a continous variable. Values in one time period are not discrete and absolute — strictly self-contained and grown from zero within that period — in fact they are the average of the values that fit within the cut-offs from the previous and next time periods.\n",
    "\n",
    "Following this continuous characteristic, the previous target value is good indicator of what the next target value will be, and such characteristic makes this problem suitable for the implementation of a recurrent neural network. However, as it's good practice, simpler algorithms will be tried first. "
   ]
  },
  {
   "cell_type": "code",
   "execution_count": 648,
   "metadata": {},
   "outputs": [
    {
     "data": {
      "text/html": [
       "<style>.container { width:90% !important; }</style>"
      ],
      "text/plain": [
       "<IPython.core.display.HTML object>"
      ]
     },
     "metadata": {},
     "output_type": "display_data"
    }
   ],
   "source": [
    "# Importing libraries\n",
    "\n",
    "## data handling\n",
    "import numpy as np, pandas as pd\n",
    "\n",
    "## visualizations\n",
    "import matplotlib.pyplot as plt, seaborn as sns\n",
    "\n",
    "# Machine learning\n",
    "\n",
    "## utilities\n",
    "from sklearn.model_selection import train_test_split\n",
    "from sklearn.pipeline import Pipeline\n",
    "from dask_ml.model_selection import GridSearchCV, RandomizedSearchCV\n",
    "from dask.diagnostics import ProgressBar\n",
    "## transformers\n",
    "from sklearn.preprocessing import MinMaxScaler, StandardScaler\n",
    "from sklearn.decomposition import PCA\n",
    "from sklearn.feature_selection import RFE\n",
    "## estimators\n",
    "import sklearn.linear_model as sklm\n",
    "import sklearn.svm as svm\n",
    "from sklearn.neural_network import MLPRegressor\n",
    "import keras\n",
    "\n",
    "# widening the cells\n",
    "from IPython.core.display import display, HTML\n",
    "display(HTML(\"<style>.container { width:90% !important; }</style>\"))"
   ]
  },
  {
   "cell_type": "code",
   "execution_count": 620,
   "metadata": {},
   "outputs": [],
   "source": [
    "# importing the dataset, the data shall keep its sequential nature (not be shuffled)\n",
    "data = pd.read_csv(\"data_post_preprocessing.csv\", parse_dates=True, index_col='date') "
   ]
  },
  {
   "cell_type": "code",
   "execution_count": 621,
   "metadata": {},
   "outputs": [
    {
     "name": "stdout",
     "output_type": "stream",
     "text": [
      "<class 'pandas.core.frame.DataFrame'>\n",
      "DatetimeIndex: 19735 entries, 2016-01-11 17:00:00 to 2016-05-27 18:00:00\n",
      "Data columns (total 6 columns):\n",
      "TotalConsmp    19735 non-null float64\n",
      "Press_mm_hg    19735 non-null float64\n",
      "Windspeed      19735 non-null float64\n",
      "Visibility     19735 non-null float64\n",
      "H              19735 non-null float64\n",
      "RTo            19735 non-null float64\n",
      "dtypes: float64(6)\n",
      "memory usage: 1.1 MB\n"
     ]
    }
   ],
   "source": [
    "data.info()"
   ]
  },
  {
   "cell_type": "code",
   "execution_count": 632,
   "metadata": {},
   "outputs": [
    {
     "data": {
      "text/html": [
       "<div>\n",
       "<style scoped>\n",
       "    .dataframe tbody tr th:only-of-type {\n",
       "        vertical-align: middle;\n",
       "    }\n",
       "\n",
       "    .dataframe tbody tr th {\n",
       "        vertical-align: top;\n",
       "    }\n",
       "\n",
       "    .dataframe thead th {\n",
       "        text-align: right;\n",
       "    }\n",
       "</style>\n",
       "<table border=\"1\" class=\"dataframe\">\n",
       "  <thead>\n",
       "    <tr style=\"text-align: right;\">\n",
       "      <th></th>\n",
       "      <th>TotalConsmp</th>\n",
       "      <th>Press_mm_hg</th>\n",
       "      <th>Windspeed</th>\n",
       "      <th>Visibility</th>\n",
       "      <th>H</th>\n",
       "      <th>RTo</th>\n",
       "    </tr>\n",
       "    <tr>\n",
       "      <th>date</th>\n",
       "      <th></th>\n",
       "      <th></th>\n",
       "      <th></th>\n",
       "      <th></th>\n",
       "      <th></th>\n",
       "      <th></th>\n",
       "    </tr>\n",
       "  </thead>\n",
       "  <tbody>\n",
       "    <tr>\n",
       "      <th>2016-01-11 17:00:00</th>\n",
       "      <td>540.0</td>\n",
       "      <td>733.750000</td>\n",
       "      <td>6.166667</td>\n",
       "      <td>53.416667</td>\n",
       "      <td>45.331865</td>\n",
       "      <td>12.107153</td>\n",
       "    </tr>\n",
       "    <tr>\n",
       "      <th>2016-01-11 18:00:00</th>\n",
       "      <td>1370.0</td>\n",
       "      <td>734.266667</td>\n",
       "      <td>5.416667</td>\n",
       "      <td>40.000000</td>\n",
       "      <td>45.311706</td>\n",
       "      <td>12.466059</td>\n",
       "    </tr>\n",
       "    <tr>\n",
       "      <th>2016-01-11 19:00:00</th>\n",
       "      <td>1190.0</td>\n",
       "      <td>734.791667</td>\n",
       "      <td>6.000000</td>\n",
       "      <td>40.000000</td>\n",
       "      <td>47.636091</td>\n",
       "      <td>12.685903</td>\n",
       "    </tr>\n",
       "    <tr>\n",
       "      <th>2016-01-11 20:00:00</th>\n",
       "      <td>960.0</td>\n",
       "      <td>735.283333</td>\n",
       "      <td>6.000000</td>\n",
       "      <td>40.000000</td>\n",
       "      <td>46.973889</td>\n",
       "      <td>12.941007</td>\n",
       "    </tr>\n",
       "    <tr>\n",
       "      <th>2016-01-11 21:00:00</th>\n",
       "      <td>760.0</td>\n",
       "      <td>735.566667</td>\n",
       "      <td>6.000000</td>\n",
       "      <td>40.000000</td>\n",
       "      <td>46.111587</td>\n",
       "      <td>13.420729</td>\n",
       "    </tr>\n",
       "  </tbody>\n",
       "</table>\n",
       "</div>"
      ],
      "text/plain": [
       "                     TotalConsmp  Press_mm_hg  Windspeed  Visibility  \\\n",
       "date                                                                   \n",
       "2016-01-11 17:00:00        540.0   733.750000   6.166667   53.416667   \n",
       "2016-01-11 18:00:00       1370.0   734.266667   5.416667   40.000000   \n",
       "2016-01-11 19:00:00       1190.0   734.791667   6.000000   40.000000   \n",
       "2016-01-11 20:00:00        960.0   735.283333   6.000000   40.000000   \n",
       "2016-01-11 21:00:00        760.0   735.566667   6.000000   40.000000   \n",
       "\n",
       "                             H        RTo  \n",
       "date                                       \n",
       "2016-01-11 17:00:00  45.331865  12.107153  \n",
       "2016-01-11 18:00:00  45.311706  12.466059  \n",
       "2016-01-11 19:00:00  47.636091  12.685903  \n",
       "2016-01-11 20:00:00  46.973889  12.941007  \n",
       "2016-01-11 21:00:00  46.111587  13.420729  "
      ]
     },
     "execution_count": 632,
     "metadata": {},
     "output_type": "execute_result"
    }
   ],
   "source": [
    "# we have 5 predictors, and a target variable\n",
    "data.head(5)"
   ]
  },
  {
   "cell_type": "markdown",
   "metadata": {},
   "source": [
    "Given the computational expense of hyperparameter tuning via Grid Search, and the time-constraint, the data will be downsampled to hourly. "
   ]
  },
  {
   "cell_type": "code",
   "execution_count": 633,
   "metadata": {},
   "outputs": [],
   "source": [
    "data = data.resample('H').agg({ 'TotalConsmp': 'sum', \n",
    "                                'Press_mm_hg': 'mean', \n",
    "                                'Windspeed': 'mean',\n",
    "                                'Visibility': 'mean',\n",
    "                                'H': 'mean',\n",
    "                                'RTo': 'mean',})"
   ]
  },
  {
   "cell_type": "code",
   "execution_count": 634,
   "metadata": {},
   "outputs": [],
   "source": [
    "# Generating the training and testing data sets\n",
    "X_train, X_test, y_train, y_test = train_test_split(data.drop(['TotalConsmp'], axis=1), \\\n",
    "                                                    data.TotalConsmp, \\\n",
    "                                                    test_size=0.2, random_state=None, shuffle=False)"
   ]
  },
  {
   "cell_type": "markdown",
   "metadata": {},
   "source": [
    "Random_state was set to None and shuffle to False to maintain the continuity of the Time Series data, because, as stated above, the current value is informed/influenced by the previous value (i.e. power/energy values in consecutive time periods change relative to their previous value, not from absolute zero)."
   ]
  },
  {
   "cell_type": "code",
   "execution_count": 635,
   "metadata": {},
   "outputs": [
    {
     "data": {
      "text/html": [
       "<div>\n",
       "<style scoped>\n",
       "    .dataframe tbody tr th:only-of-type {\n",
       "        vertical-align: middle;\n",
       "    }\n",
       "\n",
       "    .dataframe tbody tr th {\n",
       "        vertical-align: top;\n",
       "    }\n",
       "\n",
       "    .dataframe thead th {\n",
       "        text-align: right;\n",
       "    }\n",
       "</style>\n",
       "<table border=\"1\" class=\"dataframe\">\n",
       "  <thead>\n",
       "    <tr style=\"text-align: right;\">\n",
       "      <th></th>\n",
       "      <th>Press_mm_hg</th>\n",
       "      <th>Windspeed</th>\n",
       "      <th>Visibility</th>\n",
       "      <th>H</th>\n",
       "      <th>RTo</th>\n",
       "    </tr>\n",
       "    <tr>\n",
       "      <th>date</th>\n",
       "      <th></th>\n",
       "      <th></th>\n",
       "      <th></th>\n",
       "      <th></th>\n",
       "      <th></th>\n",
       "    </tr>\n",
       "  </thead>\n",
       "  <tbody>\n",
       "    <tr>\n",
       "      <th>2016-01-11 17:00:00</th>\n",
       "      <td>733.750000</td>\n",
       "      <td>6.166667</td>\n",
       "      <td>53.416667</td>\n",
       "      <td>45.331865</td>\n",
       "      <td>12.107153</td>\n",
       "    </tr>\n",
       "    <tr>\n",
       "      <th>2016-01-11 18:00:00</th>\n",
       "      <td>734.266667</td>\n",
       "      <td>5.416667</td>\n",
       "      <td>40.000000</td>\n",
       "      <td>45.311706</td>\n",
       "      <td>12.466059</td>\n",
       "    </tr>\n",
       "    <tr>\n",
       "      <th>2016-01-11 19:00:00</th>\n",
       "      <td>734.791667</td>\n",
       "      <td>6.000000</td>\n",
       "      <td>40.000000</td>\n",
       "      <td>47.636091</td>\n",
       "      <td>12.685903</td>\n",
       "    </tr>\n",
       "    <tr>\n",
       "      <th>2016-01-11 20:00:00</th>\n",
       "      <td>735.283333</td>\n",
       "      <td>6.000000</td>\n",
       "      <td>40.000000</td>\n",
       "      <td>46.973889</td>\n",
       "      <td>12.941007</td>\n",
       "    </tr>\n",
       "    <tr>\n",
       "      <th>2016-01-11 21:00:00</th>\n",
       "      <td>735.566667</td>\n",
       "      <td>6.000000</td>\n",
       "      <td>40.000000</td>\n",
       "      <td>46.111587</td>\n",
       "      <td>13.420729</td>\n",
       "    </tr>\n",
       "  </tbody>\n",
       "</table>\n",
       "</div>"
      ],
      "text/plain": [
       "                     Press_mm_hg  Windspeed  Visibility          H        RTo\n",
       "date                                                                         \n",
       "2016-01-11 17:00:00   733.750000   6.166667   53.416667  45.331865  12.107153\n",
       "2016-01-11 18:00:00   734.266667   5.416667   40.000000  45.311706  12.466059\n",
       "2016-01-11 19:00:00   734.791667   6.000000   40.000000  47.636091  12.685903\n",
       "2016-01-11 20:00:00   735.283333   6.000000   40.000000  46.973889  12.941007\n",
       "2016-01-11 21:00:00   735.566667   6.000000   40.000000  46.111587  13.420729"
      ]
     },
     "execution_count": 635,
     "metadata": {},
     "output_type": "execute_result"
    }
   ],
   "source": [
    "X_train.head()"
   ]
  },
  {
   "cell_type": "markdown",
   "metadata": {},
   "source": [
    "## Classic ML Regression Models"
   ]
  },
  {
   "cell_type": "code",
   "execution_count": 636,
   "metadata": {},
   "outputs": [],
   "source": [
    "scaler = MinMaxScaler(feature_range=(0, 1)) # used because of its inverse_transform method \n",
    "pca    = PCA(n_components=3)\n",
    "estimator = MLPRegressor(learning_rate='adaptive', max_iter=5000)"
   ]
  },
  {
   "cell_type": "code",
   "execution_count": 637,
   "metadata": {},
   "outputs": [],
   "source": [
    "pipe = Pipeline(steps=[('scaler', scaler), ('pca', pca), ('est', estimator)])"
   ]
  },
  {
   "cell_type": "markdown",
   "metadata": {},
   "source": [
    "### GridSearch and CrossValidation"
   ]
  },
  {
   "cell_type": "markdown",
   "metadata": {},
   "source": [
    "Grid Search is a standard machine learning tool for hyperparameter tuning. Given the prototyping-nature of this project, Grid Search will be used to find the model that performs the best on default (out-of-the-box) hyperparameters."
   ]
  },
  {
   "cell_type": "code",
   "execution_count": 638,
   "metadata": {},
   "outputs": [],
   "source": [
    "param_grid = {\n",
    "    'est': [\n",
    "        sklm.LinearRegression(),\n",
    "        sklm.Lasso(),\n",
    "        sklm.Ridge(),\n",
    "        svm.SVR(), \n",
    "        svm.NuSVR(),\n",
    "        svm.LinearSVR(), \n",
    "        MLPRegressor(), \n",
    "        MLPRegressor(learning_rate='adaptive', max_iter=5000, hidden_layer_sizes=(50, 100, 2)) # params found via prev grid search\n",
    "    ]\n",
    "}\n",
    "\n",
    "#     'est__activation': ['logistic', 'relu', 'tanh'],\n",
    "#     'est__solver': ['sgd', 'adam' 'lbfgs']\n",
    "#     'est_hidden_layer_sizes': [(100,), (500,), (1000,), (10, 100), (50, 100, 2)]"
   ]
  },
  {
   "cell_type": "code",
   "execution_count": 644,
   "metadata": {},
   "outputs": [],
   "source": [
    "# grid search for classic model comparison\n",
    "gs_cmc = GridSearchCV(estimator = pipe,\n",
    "                  scoring = 'neg_mean_squared_error',\n",
    "                  param_grid = param_grid,\n",
    "                  n_jobs= -1, \n",
    "                  cv = 5 )"
   ]
  },
  {
   "cell_type": "code",
   "execution_count": 645,
   "metadata": {
    "scrolled": true
   },
   "outputs": [
    {
     "name": "stdout",
     "output_type": "stream",
     "text": [
      "[######                                  ] | 16% Completed |  0.2s"
     ]
    },
    {
     "name": "stderr",
     "output_type": "stream",
     "text": [
      "/Users/alanarvelo/miniconda3/envs/tensorflow_env/lib/python3.6/site-packages/sklearn/svm/base.py:196: FutureWarning: The default value of gamma will change from 'auto' to 'scale' in version 0.22 to account better for unscaled features. Set gamma explicitly to 'auto' or 'scale' to avoid this warning.\n",
      "  \"avoid this warning.\", FutureWarning)\n",
      "/Users/alanarvelo/miniconda3/envs/tensorflow_env/lib/python3.6/site-packages/sklearn/svm/base.py:196: FutureWarning: The default value of gamma will change from 'auto' to 'scale' in version 0.22 to account better for unscaled features. Set gamma explicitly to 'auto' or 'scale' to avoid this warning.\n",
      "  \"avoid this warning.\", FutureWarning)\n",
      "/Users/alanarvelo/miniconda3/envs/tensorflow_env/lib/python3.6/site-packages/sklearn/svm/base.py:196: FutureWarning: The default value of gamma will change from 'auto' to 'scale' in version 0.22 to account better for unscaled features. Set gamma explicitly to 'auto' or 'scale' to avoid this warning.\n",
      "  \"avoid this warning.\", FutureWarning)\n"
     ]
    },
    {
     "name": "stdout",
     "output_type": "stream",
     "text": [
      "[########                                ] | 20% Completed |  0.4s"
     ]
    },
    {
     "name": "stderr",
     "output_type": "stream",
     "text": [
      "/Users/alanarvelo/miniconda3/envs/tensorflow_env/lib/python3.6/site-packages/sklearn/svm/base.py:196: FutureWarning: The default value of gamma will change from 'auto' to 'scale' in version 0.22 to account better for unscaled features. Set gamma explicitly to 'auto' or 'scale' to avoid this warning.\n",
      "  \"avoid this warning.\", FutureWarning)\n"
     ]
    },
    {
     "name": "stdout",
     "output_type": "stream",
     "text": [
      "[#########                               ] | 24% Completed |  5.3s"
     ]
    },
    {
     "name": "stderr",
     "output_type": "stream",
     "text": [
      "/Users/alanarvelo/miniconda3/envs/tensorflow_env/lib/python3.6/site-packages/sklearn/neural_network/multilayer_perceptron.py:562: ConvergenceWarning: Stochastic Optimizer: Maximum iterations (200) reached and the optimization hasn't converged yet.\n",
      "  % self.max_iter, ConvergenceWarning)\n",
      "/Users/alanarvelo/miniconda3/envs/tensorflow_env/lib/python3.6/site-packages/sklearn/svm/base.py:196: FutureWarning: The default value of gamma will change from 'auto' to 'scale' in version 0.22 to account better for unscaled features. Set gamma explicitly to 'auto' or 'scale' to avoid this warning.\n",
      "  \"avoid this warning.\", FutureWarning)\n",
      "/Users/alanarvelo/miniconda3/envs/tensorflow_env/lib/python3.6/site-packages/sklearn/neural_network/multilayer_perceptron.py:562: ConvergenceWarning: Stochastic Optimizer: Maximum iterations (200) reached and the optimization hasn't converged yet.\n",
      "  % self.max_iter, ConvergenceWarning)\n",
      "/Users/alanarvelo/miniconda3/envs/tensorflow_env/lib/python3.6/site-packages/sklearn/svm/base.py:196: FutureWarning: The default value of gamma will change from 'auto' to 'scale' in version 0.22 to account better for unscaled features. Set gamma explicitly to 'auto' or 'scale' to avoid this warning.\n",
      "  \"avoid this warning.\", FutureWarning)\n"
     ]
    },
    {
     "name": "stdout",
     "output_type": "stream",
     "text": [
      "[###########                             ] | 27% Completed |  8.6s"
     ]
    },
    {
     "name": "stderr",
     "output_type": "stream",
     "text": [
      "/Users/alanarvelo/miniconda3/envs/tensorflow_env/lib/python3.6/site-packages/sklearn/svm/base.py:196: FutureWarning: The default value of gamma will change from 'auto' to 'scale' in version 0.22 to account better for unscaled features. Set gamma explicitly to 'auto' or 'scale' to avoid this warning.\n",
      "  \"avoid this warning.\", FutureWarning)\n",
      "/Users/alanarvelo/miniconda3/envs/tensorflow_env/lib/python3.6/site-packages/sklearn/svm/base.py:196: FutureWarning: The default value of gamma will change from 'auto' to 'scale' in version 0.22 to account better for unscaled features. Set gamma explicitly to 'auto' or 'scale' to avoid this warning.\n",
      "  \"avoid this warning.\", FutureWarning)\n"
     ]
    },
    {
     "name": "stdout",
     "output_type": "stream",
     "text": [
      "[############                            ] | 30% Completed |  9.5s"
     ]
    },
    {
     "name": "stderr",
     "output_type": "stream",
     "text": [
      "/Users/alanarvelo/miniconda3/envs/tensorflow_env/lib/python3.6/site-packages/sklearn/neural_network/multilayer_perceptron.py:562: ConvergenceWarning: Stochastic Optimizer: Maximum iterations (200) reached and the optimization hasn't converged yet.\n",
      "  % self.max_iter, ConvergenceWarning)\n"
     ]
    },
    {
     "name": "stdout",
     "output_type": "stream",
     "text": [
      "[##############################          ] | 76% Completed | 11.4s"
     ]
    },
    {
     "name": "stderr",
     "output_type": "stream",
     "text": [
      "/Users/alanarvelo/miniconda3/envs/tensorflow_env/lib/python3.6/site-packages/sklearn/svm/base.py:196: FutureWarning: The default value of gamma will change from 'auto' to 'scale' in version 0.22 to account better for unscaled features. Set gamma explicitly to 'auto' or 'scale' to avoid this warning.\n",
      "  \"avoid this warning.\", FutureWarning)\n",
      "/Users/alanarvelo/miniconda3/envs/tensorflow_env/lib/python3.6/site-packages/sklearn/svm/base.py:196: FutureWarning: The default value of gamma will change from 'auto' to 'scale' in version 0.22 to account better for unscaled features. Set gamma explicitly to 'auto' or 'scale' to avoid this warning.\n",
      "  \"avoid this warning.\", FutureWarning)\n"
     ]
    },
    {
     "name": "stdout",
     "output_type": "stream",
     "text": [
      "[################################        ] | 80% Completed | 13.1s"
     ]
    },
    {
     "name": "stderr",
     "output_type": "stream",
     "text": [
      "/Users/alanarvelo/miniconda3/envs/tensorflow_env/lib/python3.6/site-packages/sklearn/neural_network/multilayer_perceptron.py:562: ConvergenceWarning: Stochastic Optimizer: Maximum iterations (200) reached and the optimization hasn't converged yet.\n",
      "  % self.max_iter, ConvergenceWarning)\n"
     ]
    },
    {
     "name": "stdout",
     "output_type": "stream",
     "text": [
      "[###################################     ] | 88% Completed | 15.7s"
     ]
    },
    {
     "name": "stderr",
     "output_type": "stream",
     "text": [
      "/Users/alanarvelo/miniconda3/envs/tensorflow_env/lib/python3.6/site-packages/sklearn/neural_network/multilayer_perceptron.py:562: ConvergenceWarning: Stochastic Optimizer: Maximum iterations (200) reached and the optimization hasn't converged yet.\n",
      "  % self.max_iter, ConvergenceWarning)\n"
     ]
    },
    {
     "name": "stdout",
     "output_type": "stream",
     "text": [
      "[########################################] | 100% Completed |  6min 12.0s\n"
     ]
    },
    {
     "name": "stderr",
     "output_type": "stream",
     "text": [
      "/Users/alanarvelo/miniconda3/envs/tensorflow_env/lib/python3.6/site-packages/sklearn/neural_network/multilayer_perceptron.py:562: ConvergenceWarning: Stochastic Optimizer: Maximum iterations (5000) reached and the optimization hasn't converged yet.\n",
      "  % self.max_iter, ConvergenceWarning)\n"
     ]
    }
   ],
   "source": [
    "with ProgressBar():\n",
    "    gs_cmc.fit(X_train, y_train)"
   ]
  },
  {
   "cell_type": "code",
   "execution_count": 646,
   "metadata": {
    "scrolled": true
   },
   "outputs": [
    {
     "name": "stderr",
     "output_type": "stream",
     "text": [
      "/Users/alanarvelo/miniconda3/envs/tensorflow_env/lib/python3.6/site-packages/dask_ml/model_selection/utils.py:121: FutureWarning: You are accessing a training score ('split0_train_score'), which will not be available by default any more in sklearn 0.21. If you need training scores, please set return_train_score=True\n",
      "  warnings.warn(*warn_args, **warn_kwargs)\n",
      "/Users/alanarvelo/miniconda3/envs/tensorflow_env/lib/python3.6/site-packages/dask_ml/model_selection/utils.py:121: FutureWarning: You are accessing a training score ('split1_train_score'), which will not be available by default any more in sklearn 0.21. If you need training scores, please set return_train_score=True\n",
      "  warnings.warn(*warn_args, **warn_kwargs)\n",
      "/Users/alanarvelo/miniconda3/envs/tensorflow_env/lib/python3.6/site-packages/dask_ml/model_selection/utils.py:121: FutureWarning: You are accessing a training score ('split2_train_score'), which will not be available by default any more in sklearn 0.21. If you need training scores, please set return_train_score=True\n",
      "  warnings.warn(*warn_args, **warn_kwargs)\n",
      "/Users/alanarvelo/miniconda3/envs/tensorflow_env/lib/python3.6/site-packages/dask_ml/model_selection/utils.py:121: FutureWarning: You are accessing a training score ('split3_train_score'), which will not be available by default any more in sklearn 0.21. If you need training scores, please set return_train_score=True\n",
      "  warnings.warn(*warn_args, **warn_kwargs)\n",
      "/Users/alanarvelo/miniconda3/envs/tensorflow_env/lib/python3.6/site-packages/dask_ml/model_selection/utils.py:121: FutureWarning: You are accessing a training score ('split4_train_score'), which will not be available by default any more in sklearn 0.21. If you need training scores, please set return_train_score=True\n",
      "  warnings.warn(*warn_args, **warn_kwargs)\n",
      "/Users/alanarvelo/miniconda3/envs/tensorflow_env/lib/python3.6/site-packages/dask_ml/model_selection/utils.py:121: FutureWarning: You are accessing a training score ('mean_train_score'), which will not be available by default any more in sklearn 0.21. If you need training scores, please set return_train_score=True\n",
      "  warnings.warn(*warn_args, **warn_kwargs)\n",
      "/Users/alanarvelo/miniconda3/envs/tensorflow_env/lib/python3.6/site-packages/dask_ml/model_selection/utils.py:121: FutureWarning: You are accessing a training score ('std_train_score'), which will not be available by default any more in sklearn 0.21. If you need training scores, please set return_train_score=True\n",
      "  warnings.warn(*warn_args, **warn_kwargs)\n"
     ]
    },
    {
     "data": {
      "text/plain": [
       "{'params': [{'est': LinearRegression(copy_X=True, fit_intercept=True, n_jobs=None,\n",
       "            normalize=False)},\n",
       "  {'est': Lasso(alpha=1.0, copy_X=True, fit_intercept=True, max_iter=1000,\n",
       "      normalize=False, positive=False, precompute=False, random_state=None,\n",
       "      selection='cyclic', tol=0.0001, warm_start=False)},\n",
       "  {'est': Ridge(alpha=1.0, copy_X=True, fit_intercept=True, max_iter=None,\n",
       "      normalize=False, random_state=None, solver='auto', tol=0.001)},\n",
       "  {'est': SVR(C=1.0, cache_size=200, coef0=0.0, degree=3, epsilon=0.1,\n",
       "     gamma='auto_deprecated', kernel='rbf', max_iter=-1, shrinking=True,\n",
       "     tol=0.001, verbose=False)},\n",
       "  {'est': NuSVR(C=1.0, cache_size=200, coef0=0.0, degree=3, gamma='auto_deprecated',\n",
       "      kernel='rbf', max_iter=-1, nu=0.5, shrinking=True, tol=0.001,\n",
       "      verbose=False)},\n",
       "  {'est': LinearSVR(C=1.0, dual=True, epsilon=0.0, fit_intercept=True,\n",
       "        intercept_scaling=1.0, loss='epsilon_insensitive', max_iter=1000,\n",
       "        random_state=None, tol=0.0001, verbose=0)},\n",
       "  {'est': MLPRegressor(activation='relu', alpha=0.0001, batch_size='auto', beta_1=0.9,\n",
       "          beta_2=0.999, early_stopping=False, epsilon=1e-08,\n",
       "          hidden_layer_sizes=(100,), learning_rate='constant',\n",
       "          learning_rate_init=0.001, max_iter=200, momentum=0.9,\n",
       "          n_iter_no_change=10, nesterovs_momentum=True, power_t=0.5,\n",
       "          random_state=None, shuffle=True, solver='adam', tol=0.0001,\n",
       "          validation_fraction=0.1, verbose=False, warm_start=False)},\n",
       "  {'est': MLPRegressor(activation='relu', alpha=0.0001, batch_size='auto', beta_1=0.9,\n",
       "          beta_2=0.999, early_stopping=False, epsilon=1e-08,\n",
       "          hidden_layer_sizes=(50, 100, 2), learning_rate='adaptive',\n",
       "          learning_rate_init=0.001, max_iter=5000, momentum=0.9,\n",
       "          n_iter_no_change=10, nesterovs_momentum=True, power_t=0.5,\n",
       "          random_state=None, shuffle=True, solver='adam', tol=0.0001,\n",
       "          validation_fraction=0.1, verbose=False, warm_start=False)}],\n",
       " 'mean_fit_time': array([1.40046510e-02, 1.48535884e-02, 1.45267092e-02, 1.93061909e-01,\n",
       "        1.66139910e-01, 1.41003848e-02, 4.37510700e+00, 1.97799534e+02]),\n",
       " 'std_fit_time': array([2.73925934e-03, 3.41709203e-03, 3.12051981e-03, 1.80235075e-02,\n",
       "        1.53671616e-02, 3.01060055e-03, 4.49428444e-01, 1.57283502e+02]),\n",
       " 'mean_score_time': array([0.00140663, 0.00162934, 0.0013131 , 0.02458555, 0.01353921,\n",
       "        0.00186872, 0.00412213, 0.01477134]),\n",
       " 'std_score_time': array([0.00047083, 0.00060698, 0.00048436, 0.00093791, 0.00092189,\n",
       "        0.00047955, 0.00364246, 0.01799798]),\n",
       " 'split0_test_score': array([-397851.24333371, -395416.71864275, -397482.15606862,\n",
       "        -421092.66873013, -389321.40458568, -447292.65630951,\n",
       "        -417902.24221123, -397609.38760037]),\n",
       " 'split1_test_score': array([-217925.85365364, -217362.78392186, -217888.83572881,\n",
       "        -277102.06286694, -235312.91177685, -301098.5496994 ,\n",
       "        -251168.52192946, -217846.36278442]),\n",
       " 'split2_test_score': array([-283517.64285362, -281329.45198531, -283423.91570648,\n",
       "        -331062.02504543, -291220.0306469 , -355918.8885222 ,\n",
       "        -312593.70965884, -283445.85104673]),\n",
       " 'split3_test_score': array([-228819.35434219, -229287.17478302, -228844.63336677,\n",
       "        -266958.52203853, -238900.79944412, -294897.75282786,\n",
       "        -245693.1176826 , -228816.90902519]),\n",
       " 'split4_test_score': array([-217211.68159341, -217361.05446677, -217220.6526314 ,\n",
       "        -262922.68446322, -227876.2943781 , -285981.69504213,\n",
       "        -237060.56675966, -518330.57222387]),\n",
       " 'mean_test_score': array([-269094.65621408, -268180.49322994, -269001.45622108,\n",
       "        -311855.91312518, -276553.48487607, -337066.14381041,\n",
       "        -292915.28191464, -329193.49287248]),\n",
       " 'std_test_score': array([ 68901.25542109,  67908.54158084,  68760.44185083,  59884.81684092,\n",
       "         60717.51259142,  60329.91115174,  67995.42303428, 114020.25745226]),\n",
       " 'rank_test_score': array([3, 1, 2, 6, 4, 8, 5, 7], dtype=int32),\n",
       " 'split0_train_score': array([-228569.55087781, -228649.26460041, -228570.93280291,\n",
       "        -275027.63021296, -246162.13137605, -299428.22491828,\n",
       "        -253158.07730518, -228576.23003839]),\n",
       " 'split1_train_score': array([-274845.47709008, -274903.99429048, -274845.67346484,\n",
       "        -327675.73037905, -289936.3690715 , -350761.43179834,\n",
       "        -305701.26859747, -274846.70705884]),\n",
       " 'split2_train_score': array([-259277.49689114, -259358.64236263, -259277.7252932 ,\n",
       "        -308131.1254509 , -272272.11833038, -331387.15102172,\n",
       "        -277307.37476705, -259184.16266805]),\n",
       " 'split3_train_score': array([-272370.32916457, -272440.96150984, -272370.41074768,\n",
       "        -318991.68731743, -284393.55543612, -350254.43751834,\n",
       "        -299560.35318926, -272386.99752577]),\n",
       " 'split4_train_score': array([-275576.81236465, -275644.63591688, -275576.92620583,\n",
       "        -327022.37708356, -287628.49711208, -351862.77395227,\n",
       "        -301118.18457002, -593492.67061224]),\n",
       " 'mean_train_score': array([-262127.93327765, -262199.49973605, -262128.33370289,\n",
       "        -311369.71008878, -276078.53426523, -336738.80384179,\n",
       "        -287369.0516858 , -325697.35358066]),\n",
       " 'std_train_score': array([ 17786.5396281 ,  17780.61954118,  17786.06553789,  19494.72758869,\n",
       "         16149.67967763,  20143.28874788,  19724.93231827, 134906.36111164]),\n",
       " 'param_est': masked_array(data=[LinearRegression(copy_X=True, fit_intercept=True, n_jobs=None,\n",
       "          normalize=False),\n",
       "                    Lasso(alpha=1.0, copy_X=True, fit_intercept=True, max_iter=1000,\n",
       "    normalize=False, positive=False, precompute=False, random_state=None,\n",
       "    selection='cyclic', tol=0.0001, warm_start=False),\n",
       "                    Ridge(alpha=1.0, copy_X=True, fit_intercept=True, max_iter=None,\n",
       "    normalize=False, random_state=None, solver='auto', tol=0.001),\n",
       "                    SVR(C=1.0, cache_size=200, coef0=0.0, degree=3, epsilon=0.1,\n",
       "   gamma='auto_deprecated', kernel='rbf', max_iter=-1, shrinking=True,\n",
       "   tol=0.001, verbose=False),\n",
       "                    NuSVR(C=1.0, cache_size=200, coef0=0.0, degree=3, gamma='auto_deprecated',\n",
       "    kernel='rbf', max_iter=-1, nu=0.5, shrinking=True, tol=0.001,\n",
       "    verbose=False),\n",
       "                    LinearSVR(C=1.0, dual=True, epsilon=0.0, fit_intercept=True,\n",
       "      intercept_scaling=1.0, loss='epsilon_insensitive', max_iter=1000,\n",
       "      random_state=None, tol=0.0001, verbose=0),\n",
       "                    MLPRegressor(activation='relu', alpha=0.0001, batch_size='auto', beta_1=0.9,\n",
       "        beta_2=0.999, early_stopping=False, epsilon=1e-08,\n",
       "        hidden_layer_sizes=(100,), learning_rate='constant',\n",
       "        learning_rate_init=0.001, max_iter=200, momentum=0.9,\n",
       "        n_iter_no_change=10, nesterovs_momentum=True, power_t=0.5,\n",
       "        random_state=None, shuffle=True, solver='adam', tol=0.0001,\n",
       "        validation_fraction=0.1, verbose=False, warm_start=False),\n",
       "                    MLPRegressor(activation='relu', alpha=0.0001, batch_size='auto', beta_1=0.9,\n",
       "        beta_2=0.999, early_stopping=False, epsilon=1e-08,\n",
       "        hidden_layer_sizes=(50, 100, 2), learning_rate='adaptive',\n",
       "        learning_rate_init=0.001, max_iter=5000, momentum=0.9,\n",
       "        n_iter_no_change=10, nesterovs_momentum=True, power_t=0.5,\n",
       "        random_state=None, shuffle=True, solver='adam', tol=0.0001,\n",
       "        validation_fraction=0.1, verbose=False, warm_start=False)],\n",
       "              mask=[False, False, False, False, False, False, False, False],\n",
       "        fill_value='?',\n",
       "             dtype=object)}"
      ]
     },
     "execution_count": 646,
     "metadata": {},
     "output_type": "execute_result"
    }
   ],
   "source": [
    "gs_cmc.cv_results_"
   ]
  },
  {
   "cell_type": "code",
   "execution_count": 647,
   "metadata": {},
   "outputs": [
    {
     "name": "stdout",
     "output_type": "stream",
     "text": [
      "Best score -268180.49322994146 with  {'est': Lasso(alpha=1.0, copy_X=True, fit_intercept=True, max_iter=1000,\n",
      "   normalize=False, positive=False, precompute=False, random_state=None,\n",
      "   selection='cyclic', tol=0.0001, warm_start=False)}\n"
     ]
    }
   ],
   "source": [
    "print(\"Best score\", gs_cmc.best_score_, \"with \", gs_cmc.best_params_)"
   ]
  },
  {
   "cell_type": "markdown",
   "metadata": {},
   "source": [
    "## ______________________________________________________________________________________________"
   ]
  },
  {
   "cell_type": "markdown",
   "metadata": {},
   "source": [
    "Classical machine learning models consider each sample independently and are thus not performing well in this problem. \n",
    "As previously stated, in time series data the current value is highly dependent on the previous value, and we are not feeding this previous value back as an input. Considering the previous target value to estimate the next is precisely what recurrent neural networks (RNNs) do."
   ]
  },
  {
   "cell_type": "markdown",
   "metadata": {},
   "source": [
    "To test the hypothesis that knowing the previous target value will yield better predictions, one could create another predictive feature that for each sample/row is equal to the target variable value of the previous row — using pandas shift method (.shift(1) on TotalConsmp column. However this was not tried because of the GridSearch time constraint and because it will not yield a definite solution as it will lock us into single-step and prevent multi-step predictions. This will be explained in the report but refers to the ability to predict only the next period, (hour, day) instead of various periods ahead. "
   ]
  },
  {
   "cell_type": "code",
   "execution_count": null,
   "metadata": {},
   "outputs": [],
   "source": []
  },
  {
   "cell_type": "code",
   "execution_count": null,
   "metadata": {},
   "outputs": [],
   "source": []
  }
 ],
 "metadata": {
  "kernelspec": {
   "display_name": "Python 3",
   "language": "python",
   "name": "python3"
  },
  "language_info": {
   "codemirror_mode": {
    "name": "ipython",
    "version": 3
   },
   "file_extension": ".py",
   "mimetype": "text/x-python",
   "name": "python",
   "nbconvert_exporter": "python",
   "pygments_lexer": "ipython3",
   "version": "3.6.6"
  }
 },
 "nbformat": 4,
 "nbformat_minor": 2
}
